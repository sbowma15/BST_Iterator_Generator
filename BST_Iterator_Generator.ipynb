{
  "nbformat": 4,
  "nbformat_minor": 0,
  "metadata": {
    "colab": {
      "provenance": [],
      "authorship_tag": "ABX9TyNgb2Om2MHWqRMAL6WTZqZO",
      "include_colab_link": true
    },
    "kernelspec": {
      "name": "python3",
      "display_name": "Python 3"
    },
    "language_info": {
      "name": "python"
    }
  },
  "cells": [
    {
      "cell_type": "markdown",
      "metadata": {
        "id": "view-in-github",
        "colab_type": "text"
      },
      "source": [
        "<a href=\"https://colab.research.google.com/github/sbowma15/BST_Iterator_Generator/blob/main/BST_Iterator_Generator.ipynb\" target=\"_parent\"><img src=\"https://colab.research.google.com/assets/colab-badge.svg\" alt=\"Open In Colab\"/></a>"
      ]
    },
    {
      "cell_type": "code",
      "execution_count": null,
      "metadata": {
        "colab": {
          "base_uri": "https://localhost:8080/"
        },
        "id": "RIlk0kNSj5Ld",
        "outputId": "4be2a20c-55b3-40dc-cf9a-051155e68500"
      },
      "outputs": [
        {
          "output_type": "stream",
          "name": "stdout",
          "text": [
            "Tree:\n",
            "b\n",
            "   a\n",
            "   d\n",
            "      c\n",
            "      e\n",
            "\n"
          ]
        }
      ],
      "source": [
        "'''\n",
        "CS3210 - Principles of Programming Languages - Fall 2022\n",
        "Instructor: Thyago Mota\n",
        "Description: Homework 06 - An iterator for a BST (Binary Search Tree)\n",
        "Student Name:\n",
        "'''\n",
        "\n",
        "class BST:\n",
        "\n",
        "    # the labels for the nodes are obtained from a list of strings\n",
        "    def __init__(self, labels):\n",
        "        if (not isinstance(labels, list)):\n",
        "            raise Exception(\"labels must be a list!\")\n",
        "        if (not labels):\n",
        "            raise Exception(\"labels must not be empty!\")\n",
        "        self.label = labels[0] # first label makes the root node\n",
        "        self.left = None\n",
        "        self.right = None\n",
        "        for label in labels[1:]:\n",
        "            BST._add(self, label)\n",
        "\n",
        "    # adds a node with the given label to the BST using recursion\n",
        "    def _add(node, label):\n",
        "        if (label < node.label):\n",
        "            if (node.left):\n",
        "                BST._add(node.left, label)\n",
        "            else:\n",
        "                node.left = BST([label])\n",
        "        else:\n",
        "            if (node.right):\n",
        "                BST._add(node.right, label)\n",
        "            else:\n",
        "                node.right = BST([label])\n",
        "\n",
        "    # helper method that builds a string representation of the BST using recursion\n",
        "    def _print(node, tabs = \"\"):\n",
        "        out = \"\"\n",
        "        if (node):\n",
        "            out += tabs + node.label + \"\\n\"\n",
        "            if node.left:\n",
        "                out += BST._print(node.left, tabs + \"   \")\n",
        "            if node.right:\n",
        "                out += BST._print(node.right, tabs + \"   \")\n",
        "        return out\n",
        "\n",
        "    def __str__(self):\n",
        "        return BST._print(self, \"\")\n",
        "\n",
        "    # TODO #1: return one element at a time from the BST's given node and respecting in-order tree traversal\n",
        "    # hint: do it recursively; the base-case is when node is None\n",
        "    def in_order(node):\n",
        "        if node:\n",
        "          in_order(node.left)\n",
        "        pass\n",
        "\n",
        "# the code below builds and prints a tree using the given labels\n",
        "tree = BST([\"b\", \"a\", \"d\", \"c\", \"e\"])\n",
        "print(\"Tree:\")\n",
        "print(tree)\n",
        "\n",
        "# TODO #2: use the generator that you created to show the labels of the elements of the tree"
      ]
    }
  ]
}